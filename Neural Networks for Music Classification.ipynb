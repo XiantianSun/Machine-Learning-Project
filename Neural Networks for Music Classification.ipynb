{
 "cells": [
  {
   "cell_type": "markdown",
   "metadata": {},
   "source": [
    "# Lab:  Neural Networks for Music Classification\n",
    "\n",
    "In addition to the concepts in the [MNIST neural network demo](./demo2_mnist_neural.ipynb), in this lab, you will learn to:\n",
    "* Load a file from a URL\n",
    "* Extract simple features from audio samples for machine learning tasks such as speech recognition and classification\n",
    "* Build a simple neural network for music classification using these features\n",
    "* Use a callback to store the loss and accuracy history in the training process\n",
    "* Optimize the learning rate of the neural network\n",
    "\n",
    "To illustrate the basic concepts, we will look at a relatively simple music classification problem.  Given a sample of music, we want to determine which instrument (e.g. trumpet, violin, piano) is playing.  This dataset was generously supplied by [Prof. Juan Bello](http://steinhardt.nyu.edu/faculty/Juan_Pablo_Bello) at NYU Stenihardt  and his former PhD student Eric Humphrey (now at Spotify).  They have a complete website dedicated to deep learning methods in music informatics:\n",
    "\n",
    "http://marl.smusic.nyu.edu/wordpress/projects/feature-learning-deep-architectures/deep-learning-python-tutorial/\n",
    "\n",
    "You can also check out Juan's <a href=\"http://www.nyu.edu/classes/bello/ACA.html\">course</a>.\n",
    "\n"
   ]
  },
  {
   "cell_type": "markdown",
   "metadata": {},
   "source": [
    "## Loading Tensorflow\n",
    "\n",
    "Before starting this lab, you will need to install [Tensorflow](https://www.tensorflow.org/install/).  If you are using [Google colaboratory](https://colab.research.google.com), Tensorflow is already installed.  Run the following command to ensure Tensorflow is installed."
   ]
  },
  {
   "cell_type": "code",
   "execution_count": 1,
   "metadata": {
    "collapsed": true
   },
   "outputs": [],
   "source": [
    "import tensorflow as tf"
   ]
  },
  {
   "cell_type": "markdown",
   "metadata": {},
   "source": [
    "Then, load the other packages."
   ]
  },
  {
   "cell_type": "code",
   "execution_count": 2,
   "metadata": {
    "collapsed": true
   },
   "outputs": [],
   "source": [
    "import numpy as np\n",
    "import matplotlib\n",
    "import matplotlib.pyplot as plt\n",
    "%matplotlib inline"
   ]
  },
  {
   "cell_type": "markdown",
   "metadata": {},
   "source": [
    "## Audio Feature Extraction with Librosa\n",
    "\n",
    "The key to audio classification is to extract the correct features. In addition to `keras`, we will need the `librosa` package.  The `librosa` package in python has a rich set of methods extracting the features of audio samples commonly used in machine learning tasks such as speech recognition and sound classification. \n",
    "\n",
    "Installation instructions and complete documentation for the package are given on the [librosa main page](https://librosa.github.io/librosa/).  On most systems, you should be able to simply use:\n",
    "\n",
    "    pip install -u librosa\n",
    "    \n",
    "For Unix, you may need to load some additional packages:\n",
    "\n",
    "    sudo apt-get install build-essential\n",
    "    sudo apt-get install libxext-dev python-qt4 qt4-dev-tools\n",
    "    pip install librosa\n",
    "    \n",
    "After you have installed the package, try to import it."
   ]
  },
  {
   "cell_type": "code",
   "execution_count": 3,
   "metadata": {
    "collapsed": true
   },
   "outputs": [],
   "source": [
    "import librosa\n",
    "import librosa.display\n",
    "import librosa.feature"
   ]
  },
  {
   "cell_type": "markdown",
   "metadata": {},
   "source": [
    "In this lab, we will use a set of music samples from the website:\n",
    "\n",
    "http://theremin.music.uiowa.edu\n",
    "\n",
    "This website has a great set of samples for audio processing.  Look on the web for how to use the `requests.get` and `file.write` commands to load the file at the URL provided into your working directory.\n",
    "\n",
    "You can play the audio sample by copying the file to your local machine and playing it on any media player.  If you listen to it you will hear a soprano saxaphone (with vibrato) playing four notes (C, C#, D, Eb)."
   ]
  },
  {
   "cell_type": "code",
   "execution_count": 4,
   "metadata": {
    "collapsed": true
   },
   "outputs": [],
   "source": [
    "import requests\n",
    "fn = \"SopSax.Vib.pp.C6Eb6.aiff\"\n",
    "url = \"http://theremin.music.uiowa.edu/sound files/MIS/Woodwinds/sopranosaxophone/\"+fn\n",
    "\n",
    "# TODO:  Load the file from url and save it in a file under the name fn\n",
    "req=requests.get(url)\n",
    "with open(fn,\"wb\") as file:\n",
    "    file.write(req.content)"
   ]
  },
  {
   "cell_type": "markdown",
   "metadata": {},
   "source": [
    "Next, use `librosa` command `librosa.load` to read the audio file with filename `fn` and get the samples `y` and sample rate `sr`."
   ]
  },
  {
   "cell_type": "code",
   "execution_count": 5,
   "metadata": {
    "collapsed": true
   },
   "outputs": [],
   "source": [
    "# TODO\n",
    "y, sr = librosa.load(fn)"
   ]
  },
  {
   "cell_type": "markdown",
   "metadata": {},
   "source": [
    "Extracting features from audio files is an entire subject on its own right.  A commonly used set of features are called the Mel Frequency Cepstral Coefficients (MFCCs).  These are derived from the so-called mel spectrogram which is something like a regular spectrogram, but the power and frequency are represented in log scale, which more naturally aligns with human perceptual processing.  You can run the code below to display the mel spectrogram from the audio sample.\n",
    "\n",
    "You can easily see the four notes played in the audio track.  You also see the 'harmonics' of each notes, which are other tones at integer multiples of the fundamental frequency of each note."
   ]
  },
  {
   "cell_type": "code",
   "execution_count": 6,
   "metadata": {},
   "outputs": [
    {
     "data": {
      "image/png": "[encoded data removed]",
      "text/plain": [
       "<Figure size 432x288 with 2 Axes>"
      ]
     },
     "metadata": {
      "needs_background": "light"
     },
     "output_type": "display_data"
    }
   ],
   "source": [
    "S = librosa.feature.melspectrogram(y=y, sr=sr, n_mels=128, fmax=8000)\n",
    "librosa.display.specshow(librosa.amplitude_to_db(S),\n",
    "                         y_axis='mel', fmax=8000, x_axis='time')\n",
    "plt.colorbar(format='%+2.0f dB')\n",
    "plt.title('Mel spectrogram')\n",
    "plt.tight_layout()"
   ]
  },
  {
   "cell_type": "markdown",
   "metadata": {},
   "source": [
    "## Downloading the Data\n",
    "\n",
    "Using the MFCC features described above, Eric Humphrey and Juan Bellow have created a complete data set that can used for instrument classification.  Essentially, they collected a number of data files from the website above.  For each audio file, the segmented the track into notes and then extracted 120 MFCCs for each note.  The goal is to recognize the instrument from the 120 MFCCs.  The process of feature extraction is quite involved.  So, we will just use their processed data provided at:\n",
    "\n",
    "https://github.com/marl/dl4mir-tutorial/blob/master/README.md\n",
    "\n",
    "Note the password.  Load the four files into some directory, say  `instrument_dataset`.  Then, load them with the commands."
   ]
  },
  {
   "cell_type": "code",
   "execution_count": 7,
   "metadata": {
    "collapsed": true
   },
   "outputs": [],
   "source": [
    "data_dir = 'instrument_dataset/'\n",
    "Xtr = np.load(data_dir+'uiowa_train_data.npy')\n",
    "ytr = np.load(data_dir+'uiowa_train_labels.npy')\n",
    "Xts = np.load(data_dir+'uiowa_test_data.npy')\n",
    "yts = np.load(data_dir+'uiowa_test_labels.npy')"
   ]
  },
  {
   "cell_type": "markdown",
   "metadata": {},
   "source": [
    "Looking at the data files:\n",
    "* What are the number of training and test samples?\n",
    "* What is the number of features for each sample?\n",
    "* How many classes (i.e. instruments) are there per class?\n"
   ]
  },
  {
   "cell_type": "code",
   "execution_count": 8,
   "metadata": {},
   "outputs": [
    {
     "name": "stdout",
     "output_type": "stream",
     "text": [
      "number of training samples=66247\n",
      "number of test samples=14904\n",
      "number of features=120\n",
      "number of classes=10\n"
     ]
    }
   ],
   "source": [
    "# TODO\n",
    "print(\"number of training samples={0:d}\".format(Xtr.shape[0]))\n",
    "print(\"number of test samples={0:d}\".format(Xts.shape[0]))\n",
    "print(\"number of features={0:d}\".format(Xtr.shape[1]))\n",
    "print(\"number of classes={0:d}\".format(np.max(ytr)+1))"
   ]
  },
  {
   "cell_type": "markdown",
   "metadata": {},
   "source": [
    "Before continuing, you must scale the training and test data, `Xtr` and `Xts`.  Compute the mean and std deviation of each feature in `Xtr` and create a new training data set, `Xtr_scale`, by subtracting the mean and dividing by the std deviation.  Also compute a scaled test data set, `Xts_scale` using the mean and std deviation learned from the training data set."
   ]
  },
  {
   "cell_type": "code",
   "execution_count": 9,
   "metadata": {},
   "outputs": [
    {
     "name": "stdout",
     "output_type": "stream",
     "text": [
      "[[-0.31827517 -0.32885595 -0.29351324 ... -0.36022673 -0.25311227\n",
      "  -0.41772567]\n",
      " [-0.31018965 -0.2727317  -0.2771818  ... -0.17807889  0.22098027\n",
      "  -0.04118938]\n",
      " [-0.27996699 -0.30067912 -0.26579675 ... -0.22750957  0.43279931\n",
      "  -0.00953712]\n",
      " ...\n",
      " [-0.70541453 -0.70723946 -0.70942862 ...  3.33693492  4.20324336\n",
      "   3.70233809]\n",
      " [-0.71897237 -0.71054126 -0.71014551 ...  3.61543866  6.39878693\n",
      "   3.31839917]\n",
      " [-0.72390302 -0.7118741  -0.70965863 ...  1.07922697  1.84041084\n",
      "   1.42883157]]\n",
      "[[-0.21750643 -0.21681385 -0.22310685 ... -0.68837059 -0.80603516\n",
      "  -0.72767992]\n",
      " [-0.23309243 -0.23444571 -0.23947694 ... -0.73434555 -0.71418557\n",
      "  -0.791695  ]\n",
      " [-0.16197075 -0.20414146 -0.22111234 ... -0.66818614 -0.80244538\n",
      "  -0.68702929]\n",
      " ...\n",
      " [-0.66945232 -0.66272087 -0.66150228 ... -0.74286231 -0.74274835\n",
      "  -0.81456784]\n",
      " [-0.66689074 -0.66199011 -0.66236822 ... -0.59806106 -0.64959124\n",
      "  -0.54035891]\n",
      " [-0.66550011 -0.66405765 -0.66227782 ... -0.55623913 -0.55268092\n",
      "  -0.63606318]]\n"
     ]
    }
   ],
   "source": [
    "# TODO Scale the training and test matrices\n",
    "Xmean=np.mean(Xtr,axis=0)\n",
    "Xstd=np.std(Xtr,axis=0)\n",
    "Xtr_scale = (Xtr-Xmean[None,:])/Xstd[None,:]\n",
    "Xts_scale = (Xts-Xmean[None,:])/Xstd[None,:]\n",
    "print(Xtr_scale)\n",
    "print(Xts_scale)"
   ]
  },
  {
   "cell_type": "markdown",
   "metadata": {
    "collapsed": true
   },
   "source": [
    "## Building a Neural Network Classifier\n",
    "\n",
    "Following the example in [MNIST neural network demo](./mnist_neural.ipynb), clear the keras session.  Then, create a neural network `model` with:\n",
    "* `nh=256` hidden units\n",
    "* `sigmoid` activation\n",
    "* select the input and output shapes correctly\n",
    "* print the model summary"
   ]
  },
  {
   "cell_type": "code",
   "execution_count": 10,
   "metadata": {
    "collapsed": true
   },
   "outputs": [],
   "source": [
    "from tensorflow.keras.models import Model, Sequential\n",
    "from tensorflow.keras.layers import Dense, Activation\n",
    "import tensorflow.keras.backend as K\n"
   ]
  },
  {
   "cell_type": "code",
   "execution_count": 11,
   "metadata": {
    "collapsed": true
   },
   "outputs": [],
   "source": [
    "# TODO clear session\n",
    "K.clear_session()"
   ]
  },
  {
   "cell_type": "code",
   "execution_count": 12,
   "metadata": {},
   "outputs": [
    {
     "name": "stdout",
     "output_type": "stream",
     "text": [
      "WARNING:tensorflow:From C:\\Users\\tiger\\Anaconda3\\lib\\site-packages\\tensorflow\\python\\ops\\resource_variable_ops.py:435: colocate_with (from tensorflow.python.framework.ops) is deprecated and will be removed in a future version.\n",
      "Instructions for updating:\n",
      "Colocations handled automatically by placer.\n"
     ]
    }
   ],
   "source": [
    "# TODO: construct the model\n",
    "nin=Xtr.shape[1]\n",
    "nout=np.max(ytr)+1\n",
    "nh=256\n",
    "model=Sequential()\n",
    "model.add(Dense(nh,input_shape=(nin,),activation=\"sigmoid\",name=\"hidden\"))\n",
    "model.add(Dense(nout,activation=\"softmax\",name=\"output\"))"
   ]
  },
  {
   "cell_type": "code",
   "execution_count": 13,
   "metadata": {},
   "outputs": [
    {
     "name": "stdout",
     "output_type": "stream",
     "text": [
      "_________________________________________________________________\n",
      "Layer (type)                 Output Shape              Param #   \n",
      "=================================================================\n",
      "hidden (Dense)               (None, 256)               30976     \n",
      "_________________________________________________________________\n",
      "output (Dense)               (None, 10)                2570      \n",
      "=================================================================\n",
      "Total params: 33,546\n",
      "Trainable params: 33,546\n",
      "Non-trainable params: 0\n",
      "_________________________________________________________________\n"
     ]
    }
   ],
   "source": [
    "# TODO:  Print the model summary\n",
    "model.summary()"
   ]
  },
  {
   "cell_type": "markdown",
   "metadata": {},
   "source": [
    "Create an optimizer and compile the model.  Select the appropriate loss function and metrics.  For the optimizer, use the Adam optimizer with a learning rate of 0.001"
   ]
  },
  {
   "cell_type": "code",
   "execution_count": 14,
   "metadata": {
    "collapsed": true,
    "scrolled": true
   },
   "outputs": [],
   "source": [
    "# TODO\n",
    "from tensorflow.keras import optimizers\n",
    "opt = optimizers.Adam(lr=0.001)\n",
    "model.compile(optimizer=opt,\n",
    "              loss=\"sparse_categorical_crossentropy\",\n",
    "              metrics=[\"accuracy\"])"
   ]
  },
  {
   "cell_type": "markdown",
   "metadata": {},
   "source": [
    "Fit the model for 10 epochs using the scaled data for both the training and validation.  Use the `validation_data` option to pass the test data.  Also, pass the callback class create above.  Use a batch size of 100.  Your final accuracy should be >99%."
   ]
  },
  {
   "cell_type": "code",
   "execution_count": 15,
   "metadata": {
    "scrolled": true
   },
   "outputs": [
    {
     "name": "stdout",
     "output_type": "stream",
     "text": [
      "Train on 66247 samples, validate on 14904 samples\n",
      "Epoch 1/10\n",
      "66247/66247 [==============================] - 1s 16us/sample - loss: 0.3569 - acc: 0.9054 - val_loss: 0.1884 - val_acc: 0.9439\n",
      "Epoch 2/10\n",
      "66247/66247 [==============================] - 1s 12us/sample - loss: 0.1020 - acc: 0.9755 - val_loss: 0.1018 - val_acc: 0.9709\n",
      "Epoch 3/10\n",
      "66247/66247 [==============================] - 1s 12us/sample - loss: 0.0601 - acc: 0.9854 - val_loss: 0.0588 - val_acc: 0.9866\n",
      "Epoch 4/10\n",
      "66247/66247 [==============================] - 1s 12us/sample - loss: 0.0424 - acc: 0.9892 - val_loss: 0.0570 - val_acc: 0.9828\n",
      "Epoch 5/10\n",
      "66247/66247 [==============================] - 1s 12us/sample - loss: 0.0321 - acc: 0.9918 - val_loss: 0.0398 - val_acc: 0.9895\n",
      "Epoch 6/10\n",
      "66247/66247 [==============================] - 1s 11us/sample - loss: 0.0250 - acc: 0.9934 - val_loss: 0.0358 - val_acc: 0.9904\n",
      "Epoch 7/10\n",
      "66247/66247 [==============================] - 1s 12us/sample - loss: 0.0204 - acc: 0.9944 - val_loss: 0.0296 - val_acc: 0.9911\n",
      "Epoch 8/10\n",
      "66247/66247 [==============================] - 1s 12us/sample - loss: 0.0175 - acc: 0.9954 - val_loss: 0.0350 - val_acc: 0.9890\n",
      "Epoch 9/10\n",
      "66247/66247 [==============================] - 1s 11us/sample - loss: 0.0148 - acc: 0.9963 - val_loss: 0.0252 - val_acc: 0.9929\n",
      "Epoch 10/10\n",
      "66247/66247 [==============================] - 1s 11us/sample - loss: 0.0130 - acc: 0.9967 - val_loss: 0.0226 - val_acc: 0.9926\n"
     ]
    }
   ],
   "source": [
    "# TODO\n",
    "hist=model.fit(Xtr_scale,ytr,epochs=10,batch_size=100,\n",
    "          validation_data=(Xts_scale,yts))"
   ]
  },
  {
   "cell_type": "markdown",
   "metadata": {},
   "source": [
    "Plot the validation accuracy saved in `hist.history` dictionary. This gives one accuracy value per epoch.  You should see that the validation accuracy saturates at a little higher than 99%.  After that it \"bounces around\" due to the noise in the stochastic gradient descent."
   ]
  },
  {
   "cell_type": "code",
   "execution_count": 16,
   "metadata": {},
   "outputs": [
    {
     "name": "stdout",
     "output_type": "stream",
     "text": [
      "[0.9439077, 0.9709474, 0.9866479, 0.9827563, 0.989533, 0.99040526, 0.99107623, 0.98899627, 0.9928878, 0.99261945]\n"
     ]
    },
    {
     "data": {
      "image/png": "[encoded data removed]",
      "text/plain": [
       "<Figure size 432x288 with 1 Axes>"
      ]
     },
     "metadata": {
      "needs_background": "light"
     },
     "output_type": "display_data"
    }
   ],
   "source": [
    "# TODO\n",
    "val_acc=hist.history[\"val_acc\"]\n",
    "print(val_acc)\n",
    "nepochs=len(val_acc)\n",
    "plt.plot(np.arange(1,nepochs+1),val_acc,\"o-\")\n",
    "plt.xlabel('Epoch')\n",
    "plt.ylabel('Accuracy')\n",
    "plt.xlim([1,np.max(nepochs)])\n",
    "plt.grid()"
   ]
  },
  {
   "cell_type": "markdown",
   "metadata": {},
   "source": [
    "Plot the loss values saved in the `hist.history` dictionary.  You should see that the loss is steadily decreasing.  Use the `semilogy` plot."
   ]
  },
  {
   "cell_type": "code",
   "execution_count": 17,
   "metadata": {},
   "outputs": [
    {
     "data": {
      "image/png": "[encoded data removed]",
      "text/plain": [
       "<Figure size 432x288 with 1 Axes>"
      ]
     },
     "metadata": {
      "needs_background": "light"
     },
     "output_type": "display_data"
    }
   ],
   "source": [
    "# TODO\n",
    "nsteps=len(hist.history[\"loss\"])\n",
    "ntr=Xtr.shape[1]\n",
    "epochs=np.arange(1,nsteps+1)\n",
    "plt.semilogy(epochs,hist.history[\"loss\"])\n",
    "plt.xlabel(\"epochs\")\n",
    "plt.ylabel(\"loss\")\n",
    "plt.grid()"
   ]
  },
  {
   "cell_type": "markdown",
   "metadata": {},
   "source": [
    "## Optimizing the Learning Rate\n",
    "\n",
    "One challenge in training neural networks is the selection of the learning rate.  Rerun the above code, trying four learning rates as shown in the vector `rates`.  For each learning rate:\n",
    "* clear the session\n",
    "* construct the network\n",
    "* select the optimizer.  Use the Adam optimizer with the appropriate learrning rate.\n",
    "* train the model for 20 epochs\n",
    "* save the accuracy and losses"
   ]
  },
  {
   "cell_type": "code",
   "execution_count": 18,
   "metadata": {},
   "outputs": [
    {
     "name": "stdout",
     "output_type": "stream",
     "text": [
      "Train on 66247 samples, validate on 14904 samples\n",
      "Epoch 1/10\n",
      "66247/66247 [==============================] - 1s 15us/sample - loss: 0.1003 - acc: 0.9682 - val_loss: 0.0565 - val_acc: 0.9795\n",
      "Epoch 2/10\n",
      "66247/66247 [==============================] - 1s 12us/sample - loss: 0.0288 - acc: 0.9906 - val_loss: 0.0359 - val_acc: 0.9864\n",
      "Epoch 3/10\n",
      "66247/66247 [==============================] - 1s 12us/sample - loss: 0.0232 - acc: 0.9928 - val_loss: 0.0968 - val_acc: 0.9695\n",
      "Epoch 4/10\n",
      "66247/66247 [==============================] - 1s 12us/sample - loss: 0.0160 - acc: 0.9945 - val_loss: 0.0271 - val_acc: 0.9901\n",
      "Epoch 5/10\n",
      "66247/66247 [==============================] - 1s 12us/sample - loss: 0.0193 - acc: 0.9941 - val_loss: 0.0558 - val_acc: 0.9822\n",
      "Epoch 6/10\n",
      "66247/66247 [==============================] - 1s 12us/sample - loss: 0.0111 - acc: 0.9963 - val_loss: 0.0576 - val_acc: 0.9823\n",
      "Epoch 7/10\n",
      "66247/66247 [==============================] - 1s 12us/sample - loss: 0.0160 - acc: 0.9953 - val_loss: 0.0187 - val_acc: 0.9944\n",
      "Epoch 8/10\n",
      "66247/66247 [==============================] - 1s 12us/sample - loss: 0.0127 - acc: 0.9959 - val_loss: 0.0271 - val_acc: 0.9920\n",
      "Epoch 9/10\n",
      "66247/66247 [==============================] - 1s 12us/sample - loss: 0.0127 - acc: 0.9961 - val_loss: 0.0566 - val_acc: 0.9851\n",
      "Epoch 10/10\n",
      "66247/66247 [==============================] - 1s 12us/sample - loss: 0.0099 - acc: 0.9968 - val_loss: 0.0740 - val_acc: 0.9823\n",
      "lr=  1.0000e-02, final accuracy=0.982287\n",
      "Train on 66247 samples, validate on 14904 samples\n",
      "Epoch 1/10\n",
      "66247/66247 [==============================] - 1s 15us/sample - loss: 0.3648 - acc: 0.9011 - val_loss: 0.1916 - val_acc: 0.9500\n",
      "Epoch 2/10\n",
      "66247/66247 [==============================] - 1s 12us/sample - loss: 0.1038 - acc: 0.9750 - val_loss: 0.0922 - val_acc: 0.9786\n",
      "Epoch 3/10\n",
      "66247/66247 [==============================] - 1s 12us/sample - loss: 0.0609 - acc: 0.9851 - val_loss: 0.0672 - val_acc: 0.9829\n",
      "Epoch 4/10\n",
      "66247/66247 [==============================] - 1s 12us/sample - loss: 0.0426 - acc: 0.9895 - val_loss: 0.0511 - val_acc: 0.9868\n",
      "Epoch 5/10\n",
      "66247/66247 [==============================] - 1s 12us/sample - loss: 0.0322 - acc: 0.9918 - val_loss: 0.0435 - val_acc: 0.9886\n",
      "Epoch 6/10\n",
      "66247/66247 [==============================] - 1s 12us/sample - loss: 0.0258 - acc: 0.9933 - val_loss: 0.0359 - val_acc: 0.9894\n",
      "Epoch 7/10\n",
      "66247/66247 [==============================] - 1s 12us/sample - loss: 0.0208 - acc: 0.9943 - val_loss: 0.0360 - val_acc: 0.9889\n",
      "Epoch 8/10\n",
      "66247/66247 [==============================] - 1s 12us/sample - loss: 0.0175 - acc: 0.9955 - val_loss: 0.0326 - val_acc: 0.9893\n",
      "Epoch 9/10\n",
      "66247/66247 [==============================] - 1s 12us/sample - loss: 0.0149 - acc: 0.9960 - val_loss: 0.0257 - val_acc: 0.9915\n",
      "Epoch 10/10\n",
      "66247/66247 [==============================] - 1s 12us/sample - loss: 0.0129 - acc: 0.9968 - val_loss: 0.0256 - val_acc: 0.9905\n",
      "lr=  1.0000e-03, final accuracy=0.990472\n",
      "Train on 66247 samples, validate on 14904 samples\n",
      "Epoch 1/10\n",
      "66247/66247 [==============================] - 1s 15us/sample - loss: 1.1956 - acc: 0.6243 - val_loss: 0.8744 - val_acc: 0.6665\n",
      "Epoch 2/10\n",
      "66247/66247 [==============================] - 1s 12us/sample - loss: 0.5746 - acc: 0.8360 - val_loss: 0.5950 - val_acc: 0.8115\n",
      "Epoch 3/10\n",
      "66247/66247 [==============================] - 1s 12us/sample - loss: 0.4003 - acc: 0.9017 - val_loss: 0.4595 - val_acc: 0.8584\n",
      "Epoch 4/10\n",
      "66247/66247 [==============================] - 1s 12us/sample - loss: 0.3096 - acc: 0.9284 - val_loss: 0.3714 - val_acc: 0.8910\n",
      "Epoch 5/10\n",
      "66247/66247 [==============================] - 1s 12us/sample - loss: 0.2514 - acc: 0.9414 - val_loss: 0.3000 - val_acc: 0.9169\n",
      "Epoch 6/10\n",
      "66247/66247 [==============================] - 1s 12us/sample - loss: 0.2099 - acc: 0.9514 - val_loss: 0.2478 - val_acc: 0.9343\n",
      "Epoch 7/10\n",
      "66247/66247 [==============================] - 1s 12us/sample - loss: 0.1781 - acc: 0.9584 - val_loss: 0.2179 - val_acc: 0.9361\n",
      "Epoch 8/10\n",
      "66247/66247 [==============================] - 1s 12us/sample - loss: 0.1529 - acc: 0.9630 - val_loss: 0.1832 - val_acc: 0.9501\n",
      "Epoch 9/10\n",
      "66247/66247 [==============================] - 1s 12us/sample - loss: 0.1328 - acc: 0.9679 - val_loss: 0.1608 - val_acc: 0.9555\n",
      "Epoch 10/10\n",
      "66247/66247 [==============================] - 1s 13us/sample - loss: 0.1166 - acc: 0.9718 - val_loss: 0.1483 - val_acc: 0.9546\n",
      "lr=  1.0000e-04, final accuracy=0.954643\n"
     ]
    }
   ],
   "source": [
    "rates = [0.01,0.001,0.0001]\n",
    "batch_size = 100\n",
    "loss_hist = []\n",
    "val_acc_hist=[]\n",
    "\n",
    "# TODO\n",
    "for lr in rates:\n",
    "    K.clear_session()\n",
    "    model=Sequential()\n",
    "    model.add(Dense(nh,input_shape=(nin,),activation=\"sigmoid\",name=\"hidden\"))\n",
    "    model.add(Dense(nout,activation=\"softmax\",name=\"output\"))\n",
    "    opt = optimizers.Adam(lr=lr)\n",
    "    model.compile(optimizer=opt,\n",
    "                  loss=\"sparse_categorical_crossentropy\",\n",
    "                  metrics=[\"accuracy\"])\n",
    "    hist=model.fit(Xtr_scale,ytr,epochs=10,batch_size=batch_size,\n",
    "          validation_data=(Xts_scale,yts))\n",
    "    loss_hist.append(hist.history[\"loss\"])\n",
    "    val_acc_hist.append(hist.history[\"val_acc\"])\n",
    "    print(\"lr=%12.4e, final accuracy=%f\" %(lr,(hist.history[\"val_acc\"])[-1]))"
   ]
  },
  {
   "cell_type": "markdown",
   "metadata": {},
   "source": [
    "Plot the loss funciton vs. the epoch number for all three learning rates on one graph.  You should see that the lower learning rates are more stable, but converge slower."
   ]
  },
  {
   "cell_type": "code",
   "execution_count": 20,
   "metadata": {},
   "outputs": [
    {
     "data": {
      "image/png": "[encoded data removed]",
      "text/plain": [
       "<Figure size 432x288 with 1 Axes>"
      ]
     },
     "metadata": {
      "needs_background": "light"
     },
     "output_type": "display_data"
    }
   ],
   "source": [
    "# TODO\n",
    "ntest=len(loss_hist)\n",
    "ntr=Xtr.shape[0]\n",
    "for it, loss in enumerate(loss_hist):\n",
    "    nsteps=len(loss)\n",
    "    epochs=np.arange(1,nsteps+1)\n",
    "    plt.semilogy(epochs,loss)\n",
    "    rate_str=[\"{0:5.4f}\".format(lr) for lr in rates]\n",
    "plt.axis([0,np.max(epochs),1e-5,10])\n",
    "plt.xlabel(\"epochs\")\n",
    "plt.ylabel(\"loss\")\n",
    "plt.legend(rate_str)\n",
    "plt.grid()\n"
   ]
  },
  {
   "cell_type": "code",
   "execution_count": null,
   "metadata": {
    "collapsed": true
   },
   "outputs": [],
   "source": []
  },
  {
   "cell_type": "code",
   "execution_count": null,
   "metadata": {
    "collapsed": true
   },
   "outputs": [],
   "source": []
  }
 ],
 "metadata": {
  "anaconda-cloud": {},
  "kernelspec": {
   "display_name": "Python 2",
   "language": "python",
   "name": "python2"
  },
  "language_info": {
   "codemirror_mode": {
    "name": "ipython",
    "version": 2
   },
   "file_extension": ".py",
   "mimetype": "text/x-python",
   "name": "python",
   "nbconvert_exporter": "python",
   "pygments_lexer": "ipython2",
   "version": "2.7.13"
  }
 },
 "nbformat": 4,
 "nbformat_minor": 1
}
