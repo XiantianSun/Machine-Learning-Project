{
 "cells": [
  {
   "cell_type": "markdown",
   "metadata": {},
   "source": [
    "# Machine Learning EL9123 Project\n",
    "## Movie Recommender System\n",
    "#### Team Member\n",
    "+ Xiantian Sun\n",
    "+ Yufei Ren\n",
    "+ Ziyu Su"
   ]
  },
  {
   "cell_type": "code",
   "execution_count": 1,
   "metadata": {
    "colab": {
     "base_uri": "https://localhost:8080/",
     "height": 341
    },
    "colab_type": "code",
    "id": "RWusthZS3dsK",
    "outputId": "dcadf031-c7dc-4301-fb8d-a3c30ab14553"
   },
   "outputs": [
    {
     "name": "stdout",
     "output_type": "stream",
     "text": [
      "/bin/sh: wget: command not found\r\n"
     ]
    }
   ],
   "source": [
    "import pandas as pd\n",
    "import numpy as np\n",
    "import matplotlib\n",
    "import matplotlib.pyplot as plt\n",
    "#import the movies and ratings data\n",
    "!wget http://files.grouplens.org/datasets/movielens/ml-latest-small.zip && unzip ml-latest-small.zip\n",
    "movies = pd.read_csv(\"ml-latest-small/movies.csv\")\n",
    "ratings = pd.read_csv(\"ml-latest-small/ratings.csv\")"
   ]
  },
  {
   "cell_type": "code",
   "execution_count": 2,
   "metadata": {
    "colab": {
     "base_uri": "https://localhost:8080/",
     "height": 233
    },
    "colab_type": "code",
    "id": "Dz7Urvk93dsR",
    "outputId": "30b87e0c-c68e-46c2-b3a1-678aa9f94939"
   },
   "outputs": [
    {
     "data": {
      "text/html": [
       "<div>\n",
       "<style scoped>\n",
       "    .dataframe tbody tr th:only-of-type {\n",
       "        vertical-align: middle;\n",
       "    }\n",
       "\n",
       "    .dataframe tbody tr th {\n",
       "        vertical-align: top;\n",
       "    }\n",
       "\n",
       "    .dataframe thead th {\n",
       "        text-align: right;\n",
       "    }\n",
       "</style>\n",
       "<table border=\"1\" class=\"dataframe\">\n",
       "  <thead>\n",
       "    <tr style=\"text-align: right;\">\n",
       "      <th></th>\n",
       "      <th>movieId</th>\n",
       "      <th>title</th>\n",
       "      <th>genres</th>\n",
       "    </tr>\n",
       "  </thead>\n",
       "  <tbody>\n",
       "    <tr>\n",
       "      <th>0</th>\n",
       "      <td>1</td>\n",
       "      <td>Toy Story (1995)</td>\n",
       "      <td>Adventure|Animation|Children|Comedy|Fantasy</td>\n",
       "    </tr>\n",
       "    <tr>\n",
       "      <th>1</th>\n",
       "      <td>2</td>\n",
       "      <td>Jumanji (1995)</td>\n",
       "      <td>Adventure|Children|Fantasy</td>\n",
       "    </tr>\n",
       "    <tr>\n",
       "      <th>2</th>\n",
       "      <td>3</td>\n",
       "      <td>Grumpier Old Men (1995)</td>\n",
       "      <td>Comedy|Romance</td>\n",
       "    </tr>\n",
       "    <tr>\n",
       "      <th>3</th>\n",
       "      <td>4</td>\n",
       "      <td>Waiting to Exhale (1995)</td>\n",
       "      <td>Comedy|Drama|Romance</td>\n",
       "    </tr>\n",
       "    <tr>\n",
       "      <th>4</th>\n",
       "      <td>5</td>\n",
       "      <td>Father of the Bride Part II (1995)</td>\n",
       "      <td>Comedy</td>\n",
       "    </tr>\n",
       "    <tr>\n",
       "      <th>5</th>\n",
       "      <td>6</td>\n",
       "      <td>Heat (1995)</td>\n",
       "      <td>Action|Crime|Thriller</td>\n",
       "    </tr>\n",
       "  </tbody>\n",
       "</table>\n",
       "</div>"
      ],
      "text/plain": [
       "   movieId                               title  \\\n",
       "0        1                    Toy Story (1995)   \n",
       "1        2                      Jumanji (1995)   \n",
       "2        3             Grumpier Old Men (1995)   \n",
       "3        4            Waiting to Exhale (1995)   \n",
       "4        5  Father of the Bride Part II (1995)   \n",
       "5        6                         Heat (1995)   \n",
       "\n",
       "                                        genres  \n",
       "0  Adventure|Animation|Children|Comedy|Fantasy  \n",
       "1                   Adventure|Children|Fantasy  \n",
       "2                               Comedy|Romance  \n",
       "3                         Comedy|Drama|Romance  \n",
       "4                                       Comedy  \n",
       "5                        Action|Crime|Thriller  "
      ]
     },
     "execution_count": 2,
     "metadata": {},
     "output_type": "execute_result"
    }
   ],
   "source": [
    "movies.head(6)"
   ]
  },
  {
   "cell_type": "code",
   "execution_count": 3,
   "metadata": {
    "colab": {
     "base_uri": "https://localhost:8080/",
     "height": 233
    },
    "colab_type": "code",
    "id": "g3MOEGKZ3dsZ",
    "outputId": "5a79d3ca-2e79-4759-e38a-3d2f1ffafeae"
   },
   "outputs": [
    {
     "data": {
      "text/html": [
       "<div>\n",
       "<style scoped>\n",
       "    .dataframe tbody tr th:only-of-type {\n",
       "        vertical-align: middle;\n",
       "    }\n",
       "\n",
       "    .dataframe tbody tr th {\n",
       "        vertical-align: top;\n",
       "    }\n",
       "\n",
       "    .dataframe thead th {\n",
       "        text-align: right;\n",
       "    }\n",
       "</style>\n",
       "<table border=\"1\" class=\"dataframe\">\n",
       "  <thead>\n",
       "    <tr style=\"text-align: right;\">\n",
       "      <th></th>\n",
       "      <th>userId</th>\n",
       "      <th>movieId</th>\n",
       "      <th>rating</th>\n",
       "      <th>timestamp</th>\n",
       "    </tr>\n",
       "  </thead>\n",
       "  <tbody>\n",
       "    <tr>\n",
       "      <th>0</th>\n",
       "      <td>1</td>\n",
       "      <td>1</td>\n",
       "      <td>4.0</td>\n",
       "      <td>964982703</td>\n",
       "    </tr>\n",
       "    <tr>\n",
       "      <th>1</th>\n",
       "      <td>1</td>\n",
       "      <td>3</td>\n",
       "      <td>4.0</td>\n",
       "      <td>964981247</td>\n",
       "    </tr>\n",
       "    <tr>\n",
       "      <th>2</th>\n",
       "      <td>1</td>\n",
       "      <td>6</td>\n",
       "      <td>4.0</td>\n",
       "      <td>964982224</td>\n",
       "    </tr>\n",
       "    <tr>\n",
       "      <th>3</th>\n",
       "      <td>1</td>\n",
       "      <td>47</td>\n",
       "      <td>5.0</td>\n",
       "      <td>964983815</td>\n",
       "    </tr>\n",
       "    <tr>\n",
       "      <th>4</th>\n",
       "      <td>1</td>\n",
       "      <td>50</td>\n",
       "      <td>5.0</td>\n",
       "      <td>964982931</td>\n",
       "    </tr>\n",
       "    <tr>\n",
       "      <th>5</th>\n",
       "      <td>1</td>\n",
       "      <td>70</td>\n",
       "      <td>3.0</td>\n",
       "      <td>964982400</td>\n",
       "    </tr>\n",
       "  </tbody>\n",
       "</table>\n",
       "</div>"
      ],
      "text/plain": [
       "   userId  movieId  rating  timestamp\n",
       "0       1        1     4.0  964982703\n",
       "1       1        3     4.0  964981247\n",
       "2       1        6     4.0  964982224\n",
       "3       1       47     5.0  964983815\n",
       "4       1       50     5.0  964982931\n",
       "5       1       70     3.0  964982400"
      ]
     },
     "execution_count": 3,
     "metadata": {},
     "output_type": "execute_result"
    }
   ],
   "source": [
    "ratings.head(6)"
   ]
  },
  {
   "cell_type": "code",
   "execution_count": 4,
   "metadata": {
    "colab": {
     "base_uri": "https://localhost:8080/",
     "height": 53
    },
    "colab_type": "code",
    "id": "eD0xE2hT3dsg",
    "outputId": "0faefd24-cca0-4044-d53b-aae79874d4e1"
   },
   "outputs": [
    {
     "name": "stdout",
     "output_type": "stream",
     "text": [
      "(611, 9743)\n",
      "100836\n"
     ]
    }
   ],
   "source": [
    "N_movies = len(movies)\n",
    "N_users = np.max(ratings.userId)\n",
    "X = np.zeros([N_users+1,N_movies+1])\n",
    "print(X.shape)\n",
    "N_ratings = ratings.shape[0]\n",
    "print(N_ratings)"
   ]
  },
  {
   "cell_type": "markdown",
   "metadata": {},
   "source": [
    "There are about 10000 movies, however the range of movieId is over 190000, we use the index of movie for count instead of movieId."
   ]
  },
  {
   "cell_type": "code",
   "execution_count": 5,
   "metadata": {
    "colab": {
     "base_uri": "https://localhost:8080/",
     "height": 197
    },
    "colab_type": "code",
    "id": "xBtbTH6X3dsk",
    "outputId": "69c0abb5-9467-4e3a-932b-e56b5674bb5a"
   },
   "outputs": [
    {
     "name": "stdout",
     "output_type": "stream",
     "text": [
      "[[0.  0.  0.  0.  0.  0.  0.  0.  0.  0. ]\n",
      " [4.  0.  4.  0.  0.  4.  0.  0.  0.  0. ]\n",
      " [0.  0.  0.  0.  0.  0.  0.  0.  0.  0. ]\n",
      " [0.  0.  0.  0.  0.  0.  0.  0.  0.  0. ]\n",
      " [0.  0.  0.  0.  0.  0.  0.  0.  0.  0. ]\n",
      " [4.  0.  0.  0.  0.  0.  0.  0.  0.  0. ]\n",
      " [0.  4.  5.  3.  5.  4.  4.  3.  0.  3. ]\n",
      " [4.5 0.  0.  0.  0.  0.  0.  0.  0.  0. ]\n",
      " [0.  4.  0.  0.  0.  0.  0.  0.  0.  2. ]\n",
      " [0.  0.  0.  0.  0.  0.  0.  0.  0.  0. ]]\n"
     ]
    },
    {
     "data": {
      "text/plain": [
       "(611, 9743)"
      ]
     },
     "execution_count": 5,
     "metadata": {},
     "output_type": "execute_result"
    }
   ],
   "source": [
    "#find all the ratings for each movie\n",
    "for i in range(N_ratings):\n",
    "    a=np.where(movies.movieId==ratings.movieId[i])\n",
    "    X[ratings.userId[i],a[0]] = ratings.rating[i]\n",
    "print(X[:10,:10])\n",
    "X.shape"
   ]
  },
  {
   "cell_type": "code",
   "execution_count": 6,
   "metadata": {
    "colab": {
     "base_uri": "https://localhost:8080/",
     "height": 53
    },
    "colab_type": "code",
    "id": "kFZg0q7x3dso",
    "outputId": "077bf890-6dac-45ab-cfdb-aa3febb6f24f"
   },
   "outputs": [
    {
     "name": "stdout",
     "output_type": "stream",
     "text": [
      "[0.         4.36637931 3.94827586 2.43589744 3.55555556]\n",
      "[3.92093023 3.43181818 3.25961538 2.35714286 3.07142857]\n"
     ]
    }
   ],
   "source": [
    "#remove the mean for each non-zero value\n",
    "mean_users = np.zeros(N_users+1)\n",
    "mean_movies = np.zeros(N_movies+1)\n",
    "\n",
    "for i in range(N_users+1):\n",
    "    if np.mean(X[i,:]) == 0:\n",
    "        mean_users[i] = 0\n",
    "    else:\n",
    "        mean_users[i] = np.mean(X[i,np.nonzero(X[i,:])])\n",
    "for i in range(N_movies+1):\n",
    "    if np.mean(X[:,i]) == 0:\n",
    "        mean_movies[i] = 0\n",
    "    else:\n",
    "        mean_movies[i] = np.mean(X[np.nonzero(X[:,i]),i])\n",
    "print(mean_users[:5])\n",
    "print(mean_movies[:5])"
   ]
  },
  {
   "cell_type": "code",
   "execution_count": 7,
   "metadata": {
    "colab": {
     "base_uri": "https://localhost:8080/",
     "height": 377
    },
    "colab_type": "code",
    "id": "pc7_B0b13dsr",
    "outputId": "e8ebf0d9-e257-494c-ed01-794cc0a0c46b"
   },
   "outputs": [
    {
     "name": "stdout",
     "output_type": "stream",
     "text": [
      "[[ 0.          0.          0.          0.          0.          0.\n",
      "   0.          0.          0.          0.        ]\n",
      " [-0.14365477  0.          0.18700265  0.          0.         -0.15622887\n",
      "   0.          0.          0.          0.        ]\n",
      " [ 0.          0.          0.          0.          0.          0.\n",
      "   0.          0.          0.          0.        ]\n",
      " [ 0.          0.          0.          0.          0.          0.\n",
      "   0.          0.          0.          0.        ]\n",
      " [ 0.          0.          0.          0.          0.          0.\n",
      "   0.          0.          0.          0.        ]\n",
      " [ 0.22135307  0.          0.          0.          0.          0.\n",
      "   0.          0.          0.          0.        ]\n",
      " [ 0.          0.53727562  1.62337702  0.07461328  1.71747043  0.2801455\n",
      "   0.66059212 -0.18431529  0.         -0.49492135]\n",
      " [ 0.9244033   0.          0.          0.          0.          0.\n",
      "   0.          0.          0.          0.        ]\n",
      " [ 0.          0.49685687  0.          0.          0.          0.\n",
      "   0.          0.          0.         -1.5353401 ]\n",
      " [ 0.          0.          0.          0.          0.          0.\n",
      "   0.          0.          0.          0.        ]]\n"
     ]
    }
   ],
   "source": [
    "Xs = np.zeros([N_users+1,N_movies+1])\n",
    "for i in range(N_users+1):\n",
    "    for j in range(N_movies+1):\n",
    "        if X[i,j] != 0:\n",
    "            Xs[i,j] = X[i,j] - mean_users[i]/2 - mean_movies[j]/2\n",
    "print(Xs[:10,:10])"
   ]
  },
  {
   "cell_type": "code",
   "execution_count": 8,
   "metadata": {
    "colab": {
     "base_uri": "https://localhost:8080/",
     "height": 35
    },
    "colab_type": "code",
    "id": "044gnxCgpI2i",
    "outputId": "a7da0aa0-40bb-423f-8f13-6f7ad89bd8a0"
   },
   "outputs": [
    {
     "name": "stdout",
     "output_type": "stream",
     "text": [
      "9742\n"
     ]
    }
   ],
   "source": [
    "print(movies.title.shape[0])"
   ]
  },
  {
   "cell_type": "markdown",
   "metadata": {},
   "source": [
    "Use K-fold to determine how many PCs we need to get the best accuracy."
   ]
  },
  {
   "cell_type": "code",
   "execution_count": 9,
   "metadata": {
    "colab": {
     "base_uri": "https://localhost:8080/",
     "height": 593
    },
    "colab_type": "code",
    "id": "dlh6vHPPosNh",
    "outputId": "c1de029a-13c0-4d70-ca7a-36d703eaf6ae"
   },
   "outputs": [
    {
     "name": "stdout",
     "output_type": "stream",
     "text": [
      "[100 110 120 130 140 150 160 170 180 190 200 210 220 230 240 250 260 270\n",
      " 280 290 300 310 320 330 340 350 360 370 380 390]\n",
      "100\n",
      "110\n",
      "120\n",
      "130\n",
      "140\n",
      "150\n",
      "160\n",
      "170\n",
      "180\n",
      "190\n",
      "200\n",
      "210\n",
      "220\n",
      "230\n",
      "240\n",
      "250\n",
      "260\n",
      "270\n",
      "280\n",
      "290\n",
      "300\n",
      "310\n",
      "320\n",
      "330\n",
      "340\n",
      "350\n",
      "360\n",
      "370\n",
      "380\n",
      "390\n"
     ]
    }
   ],
   "source": [
    "from sklearn.model_selection import KFold\n",
    "from sklearn.decomposition import PCA\n",
    "nfold = 5\n",
    "\n",
    "# Create a K-fold object\n",
    "kf = KFold(n_splits=nfold)\n",
    "kf.get_n_splits(X)\n",
    "\n",
    "# Number of PCs to try\n",
    "ncomp_test = np.arange(100,400,10)\n",
    "print(ncomp_test)\n",
    "num_nc = len(ncomp_test)\n",
    "\n",
    "# Accuracy:  acc[icomp,ifold]  is test accuracy when using `ncomp = ncomp_test[icomp]` in fold `ifold`.\n",
    "RMSE = np.zeros((num_nc,nfold))\n",
    "\n",
    "# Loop over number of components to test\n",
    "for icomp, ncomp in enumerate(ncomp_test):\n",
    "    print(ncomp)\n",
    "    # Look over the folds\n",
    "    for ifold, I in enumerate(kf.split(X)):\n",
    "        Itr, Its = I\n",
    "        #print(ifold)\n",
    "        # TODO:  Split data into training \n",
    "        Xtr, Xts= Xs[Itr],Xs[Its]\n",
    "        \n",
    "        # TODO:  Create a scaling object and fit the scaling on the training data\n",
    "        pca = PCA(n_components = ncomp)        \n",
    "        \n",
    "        # TODO:  Fit the PCA on the scaled training data\n",
    "        pca.fit(Xtr)\n",
    "        Ztr = pca.transform(Xtr)        \n",
    "        \n",
    "        # TODO:  Transform the test data through data scaler and PCA\n",
    "        Zts = pca.transform(Xts)\n",
    "        Xts_hat = np.dot(Zts,pca.components_)\n",
    "        \n",
    "        # TODO:  Measure the accuracy \n",
    "        RMSE[icomp, ifold] =np.sqrt(np.mean((Xts - Xts_hat)**2))"
   ]
  },
  {
   "cell_type": "code",
   "execution_count": 10,
   "metadata": {
    "colab": {},
    "colab_type": "code",
    "id": "t6lqxi4-vVfd"
   },
   "outputs": [
    {
     "name": "stdout",
     "output_type": "stream",
     "text": [
      "[0.10377121 0.10335163 0.1029244  0.10248861 0.10206876 0.10168612\n",
      " 0.10127309 0.100899   0.10053814 0.10016462 0.09981472 0.09945276\n",
      " 0.09913547 0.09880444 0.0984613  0.0981467  0.09781774 0.0974954\n",
      " 0.097165   0.09682891 0.09650271 0.09617306 0.09588818 0.09556176\n",
      " 0.0952843  0.09499066 0.09468789 0.09439923 0.09411058 0.09380558]\n",
      "0.09638013017928357\n",
      "23\n"
     ]
    },
    {
     "data": {
      "image/png": "[encoded data removed]",
      "text/plain": [
       "<Figure size 432x288 with 1 Axes>"
      ]
     },
     "metadata": {
      "needs_background": "light"
     },
     "output_type": "display_data"
    }
   ],
   "source": [
    "#plot the errorbar\n",
    "RMSE_mean = np.mean(RMSE,axis=1)\n",
    "RMSE_se = np.std(RMSE,axis=1)/np.sqrt(nfold-1)\n",
    "print(RMSE_mean)\n",
    "plt.errorbar(ncomp_test,RMSE_mean,yerr=RMSE_se,fmt='-')\n",
    "plt.grid()\n",
    "\n",
    "n0 = np.argmin(RMSE_mean)\n",
    "# TODO:  Optimal order with one SE rule\n",
    "RMSE_tgt = RMSE_mean[n0]+RMSE_se[n0]\n",
    "print(RMSE_tgt)\n",
    "i = np.where(RMSE_mean <= RMSE_tgt)\n",
    "dopt = np.min(i)\n",
    "print(dopt+2)"
   ]
  },
  {
   "cell_type": "code",
   "execution_count": 11,
   "metadata": {
    "colab": {},
    "colab_type": "code",
    "id": "ixSH6dyB3dsw"
   },
   "outputs": [
    {
     "name": "stdout",
     "output_type": "stream",
     "text": [
      "[[-0.56389207  0.07158431]\n",
      " [ 1.53861192  1.21404965]\n",
      " [-0.67285588  0.0326309 ]\n",
      " [-1.08215214  0.05371388]\n",
      " [-1.26477375 -0.32782549]]\n",
      "2\n"
     ]
    }
   ],
   "source": [
    "from sklearn.decomposition import PCA\n",
    "\n",
    "ncomp = 10\n",
    "pca = PCA(n_components=2)\n",
    "Z = pca.fit_transform(Xs)\n",
    "print(Z[:5,:5])\n",
    "print(pca.n_components_)"
   ]
  },
  {
   "cell_type": "code",
   "execution_count": 12,
   "metadata": {
    "colab": {},
    "colab_type": "code",
    "id": "HqBVYxAa3dsz"
   },
   "outputs": [
    {
     "name": "stdout",
     "output_type": "stream",
     "text": [
      "[[ 0.          0.          0.          0.          0.        ]\n",
      " [-0.14365477  0.          0.18700265  0.          0.        ]\n",
      " [ 0.          0.          0.          0.          0.        ]\n",
      " [ 0.          0.          0.          0.          0.        ]\n",
      " [ 0.          0.          0.          0.          0.        ]]\n",
      "[[-0.01290107  0.01565239  0.0022831   0.00115698  0.01761968]\n",
      " [ 0.11973387  0.02583771  0.0438734   0.00642636 -0.03526389]\n",
      " [-0.01856006  0.01610969  0.00084774  0.00102163  0.02054455]\n",
      " [-0.0297761   0.02596916  0.00140727  0.00165147  0.03305296]\n",
      " [-0.05822905  0.01135426 -0.01224116 -0.00072581  0.03507997]]\n"
     ]
    }
   ],
   "source": [
    "Xs_hat = np.dot(Z,pca.components_)\n",
    "\n",
    "print(Xs[:5,:5])\n",
    "print(Xs_hat[:5,:5])"
   ]
  },
  {
   "cell_type": "code",
   "execution_count": 13,
   "metadata": {
    "colab": {},
    "colab_type": "code",
    "id": "5lwLTeX63ds2"
   },
   "outputs": [
    {
     "name": "stdout",
     "output_type": "stream",
     "text": [
      "[[1.94756404 1.73156148 1.63209079 1.17972841 1.55333397]\n",
      " [4.26338865 3.92493645 3.85687075 3.36818744 3.68364005]\n",
      " [3.91604298 3.70615671 3.60479336 3.15373099 3.53039677]\n",
      " [3.14863773 2.95982697 2.84916368 2.39817161 2.78671596]\n",
      " [3.68001385 3.50504112 3.39534431 2.9556234  3.34857203]]\n"
     ]
    }
   ],
   "source": [
    "X_hat = Xs_hat + mean_movies/2\n",
    "X_hat = (X_hat.T + mean_users.T/2).T\n",
    "print(X_hat[:5,:5])"
   ]
  },
  {
   "cell_type": "code",
   "execution_count": 14,
   "metadata": {
    "colab": {},
    "colab_type": "code",
    "id": "ifjAHQpS3ds4"
   },
   "outputs": [],
   "source": [
    "Y = 5*(X_hat+np.min(X_hat))/(np.max(X_hat)+np.min(X_hat))"
   ]
  },
  {
   "cell_type": "code",
   "execution_count": 17,
   "metadata": {
    "colab": {},
    "colab_type": "code",
    "id": "RlcCh6A73ds_"
   },
   "outputs": [],
   "source": [
    "import re\n",
    "def recommend(user, k=5):\n",
    "    recomm = []\n",
    "    np_movie_Id = np.array(movies.movieId)\n",
    "#     np_movie_title = np.array(movies.title)\n",
    "    for i in range(Y.shape[1]):\n",
    "      n = np.argwhere(np_movie_Id==i)\n",
    "      if len(n)>0 and X[user,i] == 0:\n",
    "#           print(n)\n",
    "          s = str(movies.title[n[0]])\n",
    "          s = re.sub('\\nName: title, dtype: object', '', s)\n",
    "          recomm.append((s, Y[user,i]))\n",
    "    recomm.sort(key=lambda val:val[1], reverse=True)\n",
    "    return recomm[:k]        "
   ]
  },
  {
   "cell_type": "code",
   "execution_count": 18,
   "metadata": {},
   "outputs": [
    {
     "name": "stdout",
     "output_type": "stream",
     "text": [
      "[('3248    Rape Me (Baise-moi) (2000)', 3.3283647665525002), ('2218    Goldfinger (1964)', 3.3278125327181014), ('2845    Sinbad and the Eye of the Tiger (1977)', 3.3278125327181014), ('2881    Tao of Steve, The (2000)', 3.3278125327181014), ('2913    Urban Legends: Final Cut (2000)', 3.318856691084882)]\n"
     ]
    }
   ],
   "source": [
    "#Recommend movies for user 1\n",
    "RECOM = recommend(1)\n",
    "print (RECOM)"
   ]
  },
  {
   "cell_type": "code",
   "execution_count": null,
   "metadata": {},
   "outputs": [],
   "source": []
  }
 ],
 "metadata": {
  "accelerator": "GPU",
  "colab": {
   "collapsed_sections": [],
   "name": "Project_Movie_suggestion_via_SVD.ipynb",
   "provenance": [],
   "version": "0.3.2"
  },
  "kernelspec": {
   "display_name": "Python 3",
   "language": "python",
   "name": "python3"
  },
  "language_info": {
   "codemirror_mode": {
    "name": "ipython",
    "version": 3
   },
   "file_extension": ".py",
   "mimetype": "text/x-python",
   "name": "python",
   "nbconvert_exporter": "python",
   "pygments_lexer": "ipython3",
   "version": "3.7.3"
  }
 },
 "nbformat": 4,
 "nbformat_minor": 1
}
